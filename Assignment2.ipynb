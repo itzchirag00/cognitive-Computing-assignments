{
  "nbformat": 4,
  "nbformat_minor": 0,
  "metadata": {
    "colab": {
      "provenance": [],
      "authorship_tag": "ABX9TyMz0YAHOUkiJ4B+1lXJSZqC",
      "include_colab_link": true
    },
    "kernelspec": {
      "name": "python3",
      "display_name": "Python 3"
    },
    "language_info": {
      "name": "python"
    }
  },
  "cells": [
    {
      "cell_type": "markdown",
      "metadata": {
        "id": "view-in-github",
        "colab_type": "text"
      },
      "source": [
        "<a href=\"https://colab.research.google.com/github/itzchirag00/cognitive-Computing-assignments/blob/main/Untitled0.ipynb\" target=\"_parent\"><img src=\"https://colab.research.google.com/assets/colab-badge.svg\" alt=\"Open In Colab\"/></a>"
      ]
    },
    {
      "cell_type": "markdown",
      "source": [
        "1. Create a List L that is defined as= [10, 20, 30, 40, 50, 60, 70, 80]. i. WAP to add 200 and 300 to L. ii. WAP to remove 10 and 30 from L. iii. WAP to sort L in ascending order. iv. WAP to sort L in descending order."
      ],
      "metadata": {
        "id": "StneqolqcQ6W"
      }
    },
    {
      "cell_type": "code",
      "execution_count": 1,
      "metadata": {
        "colab": {
          "base_uri": "https://localhost:8080/"
        },
        "id": "Nve2fWanb7Ez",
        "outputId": "f9329fb8-90bf-40e6-ea1b-e5622e2bbc4c"
      },
      "outputs": [
        {
          "output_type": "stream",
          "name": "stdout",
          "text": [
            "[10, 20, 30, 40, 50, 60, 70, 80, 200, 300]\n",
            "[20, 40, 50, 60, 70, 80, 200, 300]\n",
            "[20, 40, 50, 60, 70, 80, 200, 300]\n",
            "[300, 200, 80, 70, 60, 50, 40, 20]\n"
          ]
        }
      ],
      "source": [
        "L = [10, 20, 30, 40, 50, 60, 70, 80]\n",
        "L.append(200)\n",
        "L.append(300)\n",
        "print(L)\n",
        "L.remove(10)\n",
        "L.remove(30)\n",
        "print(L)\n",
        "L.sort()\n",
        "print(L)\n",
        "L.sort(reverse = True)\n",
        "print(L)"
      ]
    },
    {
      "cell_type": "markdown",
      "source": [
        "2. Create a tuple of marks scored as scores = (45, 89.5, 76, 45.4, 89, 92, 58, 45) and perform the following operations using tuple functions: i. Identify the highest score and its index in the tuple. ii. Find the lowest score and count how many times it appears. iii. Reverse the tuple and return it as a list. iv. Check if a specific score ‘76’ (input by the user) is present in the tuple and print its first occurrence index, or a message saying it’s not present."
      ],
      "metadata": {
        "id": "f4VA2FKrcbal"
      }
    },
    {
      "cell_type": "code",
      "source": [
        "scores = (45, 89.5, 76, 45.4, 89, 92, 58, 45)\n",
        "print(\"Maximum Score: \",max(scores))\n",
        "print(\"Index of Maximum Score: \",scores.index(max(scores)))\n",
        "\n",
        "print(\"Minimum Score: \",min(scores))\n",
        "count = 0\n",
        "for i in scores:\n",
        "  if(i == min(scores)):\n",
        "    count += 1\n",
        "print(\"Occurence of Minimum Score is :\",count)\n",
        "\n",
        "L = list(reversed(scores))\n",
        "print(\"Reverse : \",L)\n",
        "n = int(input(\"Enter : \"))\n",
        "try:\n",
        "  print(\"76 is at index \",scores.index(76))\n",
        "except ValueError:\n",
        "  print(\"76 is not present\")"
      ],
      "metadata": {
        "colab": {
          "base_uri": "https://localhost:8080/"
        },
        "id": "GfYtv3jrcDNJ",
        "outputId": "7b9108f9-6eee-4672-a75f-ba16d00f401a"
      },
      "execution_count": 3,
      "outputs": [
        {
          "output_type": "stream",
          "name": "stdout",
          "text": [
            "Maximum Score:  92\n",
            "Index of Maximum Score:  5\n",
            "Minimum Score:  45\n",
            "Occurence of Minimum Score is : 2\n",
            "Reverse :  [45, 58, 92, 89, 45.4, 76, 89.5, 45]\n",
            "Enter : 76\n",
            "76 is at index  2\n"
          ]
        }
      ]
    },
    {
      "cell_type": "markdown",
      "source": [
        "3. WAP to create a list of 100 random numbers between 100 and 900. Count and print the: i. All odd numbers ii. All even numbers iii. All prime numbers"
      ],
      "metadata": {
        "id": "uX73C5FPcxyo"
      }
    },
    {
      "cell_type": "code",
      "source": [
        "import random\n",
        "A = []\n",
        "for i in range(100):\n",
        "  A.append(random.randint(100,900))\n",
        "print(\"Printing Prime Numbers\")\n",
        "for i in A:\n",
        "  flag=True\n",
        "  for j in range(2,i):\n",
        "    if(i%j==0):\n",
        "        flag=False\n",
        "        break\n",
        "  if(flag):\n",
        "    print(i,end = \" \")\n",
        "print(\"\\nPrinting Even Numbers\")\n",
        "for i in A:\n",
        "  if(i%2==0):\n",
        "    print(i,end = \" \")\n",
        "print(\"\\nPrinting Odd Numbers\")\n",
        "for i in A:\n",
        "  if(i%2!=0):\n",
        "    print(i,end = \" \")"
      ],
      "metadata": {
        "colab": {
          "base_uri": "https://localhost:8080/"
        },
        "id": "JyKiIFBmckZn",
        "outputId": "89902327-195e-46d6-e3e1-fe99fe916175"
      },
      "execution_count": 4,
      "outputs": [
        {
          "output_type": "stream",
          "name": "stdout",
          "text": [
            "Printing Prime Numbers\n",
            "157 421 617 509 109 521 349 139 661 431 359 509 \n",
            "Printing Even Numbers\n",
            "604 468 110 444 102 152 452 476 530 374 226 140 540 536 400 426 540 708 462 390 122 184 620 414 266 608 468 690 674 700 600 158 194 804 410 678 604 196 742 416 262 378 554 732 822 326 788 522 652 188 360 496 112 288 \n",
            "Printing Odd Numbers\n",
            "157 703 471 605 567 175 681 421 553 663 361 217 531 617 509 109 671 869 183 717 445 521 349 517 875 139 333 195 661 553 407 707 507 453 731 561 431 657 785 525 359 835 125 509 625 319 "
          ]
        }
      ]
    },
    {
      "cell_type": "markdown",
      "source": [
        "4. Consider the following two sets, A and B, representing scores of two teams in mulƟple matches. A = {34, 56, 78, 90} and B = {78, 45, 90, 23} WAP to perform the following operations using set functions: i. Find the unique scores achieved by both teams (union of sets). ii. IdenƟfy the scores that are common to both teams (intersecƟon of sets). iii. Find the scores that are exclusive to each team (symmetric difference). iv. Check if the scores of team A are a subset of team B, and if team B's scores are a superset of team A. v. Remove a specific score 𝑋 (input by the user) from set A if it exists. If not, print a message saying it is not present."
      ],
      "metadata": {
        "id": "12tW51qhdFjC"
      }
    },
    {
      "cell_type": "code",
      "source": [
        "A = {34, 56, 78, 90}\n",
        "B = {78, 45, 90, 23}\n",
        "\n",
        "uni = A | B\n",
        "print(\"Unique scores:\", uni)\n",
        "\n",
        "com = A & B\n",
        "print(\"Common scores:\", com)\n",
        "\n",
        "exc = A ^ B\n",
        "print(\"Exclusive scores:\", exc)\n",
        "\n",
        "sub = A.issubset(B)\n",
        "print(\"A a subset of B?\", sub)\n",
        "\n",
        "sup = B.issuperset(A)\n",
        "print(\"B a superset of A?\",sup)\n",
        "\n",
        "X = int(input(\"Enter the score to remove from A: \"))\n",
        "if X in A:\n",
        "    A.remove(X)\n",
        "    print(\"Set after removal:\", A)\n",
        "else:\n",
        "    print(\"Score \",X,\" is not present in set A.\")"
      ],
      "metadata": {
        "colab": {
          "base_uri": "https://localhost:8080/"
        },
        "id": "Rb_N0626dOaA",
        "outputId": "8b83e39a-8741-43ee-9470-2d1981defc52"
      },
      "execution_count": 6,
      "outputs": [
        {
          "output_type": "stream",
          "name": "stdout",
          "text": [
            "Unique scores: {34, 45, 78, 23, 56, 90}\n",
            "Common scores: {90, 78}\n",
            "Exclusive scores: {34, 45, 23, 56}\n",
            "A a subset of B? False\n",
            "B a superset of A? False\n",
            "Enter the score to remove from A: 74\n",
            "Score  74  is not present in set A.\n"
          ]
        }
      ]
    },
    {
      "cell_type": "markdown",
      "source": [
        "5. Write a program to rename a key city to a location in the following dictionary"
      ],
      "metadata": {
        "id": "DEnUu3HzdyZ4"
      }
    },
    {
      "cell_type": "code",
      "source": [
        "dict = {\"name\": \"chirag\", \"age\": 20, \"salary\": 86000, \"city\": \"gurgaon\"}\n",
        "a = dict.pop(\"city\")\n",
        "dict[\"location\"] = a\n",
        "print(dict)"
      ],
      "metadata": {
        "colab": {
          "base_uri": "https://localhost:8080/"
        },
        "id": "OGjY4F0cdUab",
        "outputId": "88304f8d-7897-4f15-fc6a-e61828ef6292"
      },
      "execution_count": 7,
      "outputs": [
        {
          "output_type": "stream",
          "name": "stdout",
          "text": [
            "{'name': 'chirag', 'age': 20, 'salary': 86000, 'location': 'gurgaon'}\n"
          ]
        }
      ]
    }
  ]
}
