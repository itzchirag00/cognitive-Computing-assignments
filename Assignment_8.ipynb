{
  "nbformat": 4,
  "nbformat_minor": 0,
  "metadata": {
    "colab": {
      "provenance": []
    },
    "kernelspec": {
      "name": "python3",
      "display_name": "Python 3"
    },
    "language_info": {
      "name": "python"
    }
  },
  "cells": [
    {
      "cell_type": "markdown",
      "source": [
        "CHIRAG SOOD 102317142"
      ],
      "metadata": {
        "id": "9ZNJRkMbvOr5"
      }
    },
    {
      "cell_type": "code",
      "execution_count": 1,
      "metadata": {
        "colab": {
          "base_uri": "https://localhost:8080/"
        },
        "id": "rFVGh0bwvNSx",
        "outputId": "db42f90a-2f2a-4fb6-cfbf-ba9b9f93c90d"
      },
      "outputs": [
        {
          "output_type": "stream",
          "name": "stdout",
          "text": [
            "Accuracy: 0.90\n"
          ]
        },
        {
          "output_type": "stream",
          "name": "stderr",
          "text": [
            "/usr/local/lib/python3.11/dist-packages/sklearn/linear_model/_logistic.py:1256: FutureWarning: 'multi_class' was deprecated in version 1.5 and will be removed in 1.7. Use OneVsRestClassifier(LogisticRegression(..)) instead. Leave it to its default value to avoid this warning.\n",
            "  warnings.warn(\n"
          ]
        }
      ],
      "source": [
        "from sklearn import datasets\n",
        "from sklearn.model_selection import train_test_split\n",
        "from sklearn.preprocessing import StandardScaler\n",
        "from sklearn.linear_model import LogisticRegression\n",
        "from sklearn.metrics import accuracy_score\n",
        "\n",
        "iris_dataset = datasets.load_iris()\n",
        "features = iris_dataset.data\n",
        "labels = iris_dataset.target\n",
        "\n",
        "features_train, features_test, labels_train, labels_test = train_test_split(features, labels, test_size=0.2, random_state=42, stratify=labels)\n",
        "\n",
        "normalizer = StandardScaler()\n",
        "features_train = normalizer.fit_transform(features_train)\n",
        "features_test = normalizer.transform(features_test)\n",
        "\n",
        "classifier = LogisticRegression(multi_class='ovr', solver='lbfgs', max_iter=200)\n",
        "classifier.fit(features_train, labels_train)\n",
        "\n",
        "predictions = classifier.predict(features_test)\n",
        "\n",
        "model_accuracy = accuracy_score(labels_test, predictions)\n",
        "print(f\"Accuracy: {model_accuracy:.2f}\")"
      ]
    }
  ]
}
