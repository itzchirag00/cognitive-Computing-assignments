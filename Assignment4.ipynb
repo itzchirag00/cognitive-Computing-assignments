{
  "nbformat": 4,
  "nbformat_minor": 0,
  "metadata": {
    "colab": {
      "provenance": []
    },
    "kernelspec": {
      "name": "python3",
      "display_name": "Python 3"
    },
    "language_info": {
      "name": "python"
    }
  },
  "cells": [
    {
      "cell_type": "markdown",
      "source": [
        "q1"
      ],
      "metadata": {
        "id": "Gfwgl54LhPpT"
      }
    },
    {
      "cell_type": "code",
      "execution_count": 1,
      "metadata": {
        "colab": {
          "base_uri": "https://localhost:8080/"
        },
        "id": "Ne6JivRahNhy",
        "outputId": "32acc49e-783c-4f46-d29e-be343c5c17ac"
      },
      "outputs": [
        {
          "output_type": "stream",
          "name": "stdout",
          "text": [
            "[12 22 32 42 52]\n",
            "[ 30  60  90 120 150]\n",
            "[ 5. 10. 15. 20. 25.]\n"
          ]
        }
      ],
      "source": [
        "import numpy as np\n",
        "\n",
        "arr=np.array([10,20,30,40,50])\n",
        "narr=arr+2\n",
        "print(narr)\n",
        "narr=arr*3\n",
        "print(narr)\n",
        "narr=arr/2\n",
        "print(narr)"
      ]
    },
    {
      "cell_type": "markdown",
      "source": [
        "q2"
      ],
      "metadata": {
        "id": "ZJOjCDYqhy3r"
      }
    },
    {
      "cell_type": "code",
      "source": [
        "arr = np.array([1, 2, 3, 6, 4, 5])\n",
        "narr=np.flip(arr)\n",
        "print(narr)\n",
        "\n",
        "x = np.array([1,2,3,4,5,1,2,1,1,1])\n",
        "freq=np.bincount(x)\n",
        "print(freq)\n",
        "most_freq_val=freq.argmax()\n",
        "print(\"Most frequent value is: \"+str(most_freq_val))\n",
        "indices=np.where(x==most_freq_val)[0]\n",
        "print(indices)\n",
        "\n",
        "y= np.array([1, 1, 1, 2, 3, 4, 2, 4, 3, 3])\n",
        "unique,counts=np.unique(y,return_counts=True)\n",
        "print(unique)\n",
        "print(counts)\n",
        "most_freq_val=unique[np.argmax(counts)]\n",
        "print(most_freq_val)\n",
        "\n",
        "indices=np.where(y==most_freq_val)[0]\n",
        "print(indices)"
      ],
      "metadata": {
        "colab": {
          "base_uri": "https://localhost:8080/"
        },
        "id": "qBjK0kBWhOia",
        "outputId": "155a1cd2-36e6-46bd-cb38-b384a2836cef"
      },
      "execution_count": 2,
      "outputs": [
        {
          "output_type": "stream",
          "name": "stdout",
          "text": [
            "[5 4 6 3 2 1]\n",
            "[0 5 2 1 1 1]\n",
            "Most frequent value is: 1\n",
            "[0 5 7 8 9]\n",
            "[1 2 3 4]\n",
            "[3 2 3 2]\n",
            "1\n",
            "[0 1 2]\n"
          ]
        }
      ]
    },
    {
      "cell_type": "markdown",
      "source": [
        "q3"
      ],
      "metadata": {
        "id": "yciJ0_kGh0Ke"
      }
    },
    {
      "cell_type": "code",
      "source": [
        "arr = np.array([[10, 20, 30], [40, 50, 60], [70, 80, 90]])\n",
        "\n",
        "print(arr[0][1])\n",
        "\n",
        "\n",
        "print(arr[2][0])"
      ],
      "metadata": {
        "colab": {
          "base_uri": "https://localhost:8080/"
        },
        "id": "TMbVFxIwhYA6",
        "outputId": "36401e0e-1eaa-4e1c-cc74-43aba3bdaac3"
      },
      "execution_count": 3,
      "outputs": [
        {
          "output_type": "stream",
          "name": "stdout",
          "text": [
            "20\n",
            "70\n"
          ]
        }
      ]
    },
    {
      "cell_type": "markdown",
      "source": [
        "q4"
      ],
      "metadata": {
        "id": "cZPpqRmZh1kw"
      }
    },
    {
      "cell_type": "code",
      "source": [
        "import numpy as np\n",
        "\n",
        "array=np.linspace(10,100,num=25)\n",
        "\n",
        "print(array)\n",
        "\n",
        "print(np.shape(array))\n",
        "\n",
        "print(np.count_nonzero(array))\n",
        "\n",
        "print(np.size(array))\n",
        "\n",
        "print(array.dtype)\n",
        "\n",
        "print(array.nbytes)\n",
        "\n",
        "print(array.reshape(np.size(array),1))\n",
        "\n",
        "print(array.T)"
      ],
      "metadata": {
        "colab": {
          "base_uri": "https://localhost:8080/"
        },
        "id": "NTiPYvmwhf65",
        "outputId": "9b5576fe-d55a-41a9-c287-bc6196a895b0"
      },
      "execution_count": 4,
      "outputs": [
        {
          "output_type": "stream",
          "name": "stdout",
          "text": [
            "[ 10.    13.75  17.5   21.25  25.    28.75  32.5   36.25  40.    43.75\n",
            "  47.5   51.25  55.    58.75  62.5   66.25  70.    73.75  77.5   81.25\n",
            "  85.    88.75  92.5   96.25 100.  ]\n",
            "(25,)\n",
            "25\n",
            "25\n",
            "float64\n",
            "200\n",
            "[[ 10.  ]\n",
            " [ 13.75]\n",
            " [ 17.5 ]\n",
            " [ 21.25]\n",
            " [ 25.  ]\n",
            " [ 28.75]\n",
            " [ 32.5 ]\n",
            " [ 36.25]\n",
            " [ 40.  ]\n",
            " [ 43.75]\n",
            " [ 47.5 ]\n",
            " [ 51.25]\n",
            " [ 55.  ]\n",
            " [ 58.75]\n",
            " [ 62.5 ]\n",
            " [ 66.25]\n",
            " [ 70.  ]\n",
            " [ 73.75]\n",
            " [ 77.5 ]\n",
            " [ 81.25]\n",
            " [ 85.  ]\n",
            " [ 88.75]\n",
            " [ 92.5 ]\n",
            " [ 96.25]\n",
            " [100.  ]]\n",
            "[ 10.    13.75  17.5   21.25  25.    28.75  32.5   36.25  40.    43.75\n",
            "  47.5   51.25  55.    58.75  62.5   66.25  70.    73.75  77.5   81.25\n",
            "  85.    88.75  92.5   96.25 100.  ]\n"
          ]
        }
      ]
    },
    {
      "cell_type": "markdown",
      "source": [
        "q5"
      ],
      "metadata": {
        "id": "Zv6G-Ichh3JW"
      }
    },
    {
      "cell_type": "code",
      "source": [
        "import numpy as np\n",
        "ucs420_ = np.array([[10, 20, 30, 40], [50, 60, 70, 80], [90, 15, 20, 35]])\n",
        "\n",
        "print(ucs420_.mean()) #mean\n",
        "# finding median\n",
        "print(np.median(ucs420_))\n",
        "print(ucs420_.max())# max\n",
        "print(ucs420_.min()) # min\n",
        "print(np.unique(ucs420_)) #unique"
      ],
      "metadata": {
        "colab": {
          "base_uri": "https://localhost:8080/"
        },
        "id": "dOZs_B-rhjaB",
        "outputId": "4953243e-5342-4549-9c4c-fd0ae2e1c983"
      },
      "execution_count": 5,
      "outputs": [
        {
          "output_type": "stream",
          "name": "stdout",
          "text": [
            "43.333333333333336\n",
            "37.5\n",
            "90\n",
            "10\n",
            "[10 15 20 30 35 40 50 60 70 80 90]\n"
          ]
        }
      ]
    },
    {
      "cell_type": "code",
      "source": [
        "import numpy as np\n",
        "reshaped_ucs420_ = ucs420_.reshape((4,3))\n",
        "print('Reshaped: ',reshaped_ucs420_)\n",
        "\n",
        "resized_ucs420_ = np.resize(ucs420_,(2,3))\n",
        "print('Resized: ',resized_ucs420_)"
      ],
      "metadata": {
        "colab": {
          "base_uri": "https://localhost:8080/"
        },
        "id": "mDW3pHGBhnOc",
        "outputId": "e9525478-b4dd-4ff8-e77c-3339e288b007"
      },
      "execution_count": 6,
      "outputs": [
        {
          "output_type": "stream",
          "name": "stdout",
          "text": [
            "Reshaped:  [[10 20 30]\n",
            " [40 50 60]\n",
            " [70 80 90]\n",
            " [15 20 35]]\n",
            "Resized:  [[10 20 30]\n",
            " [40 50 60]]\n"
          ]
        }
      ]
    },
    {
      "cell_type": "code",
      "source": [],
      "metadata": {
        "id": "KkyO_T4ThsKe"
      },
      "execution_count": null,
      "outputs": []
    }
  ]
}
