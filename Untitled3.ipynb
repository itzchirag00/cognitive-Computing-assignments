{
  "nbformat": 4,
  "nbformat_minor": 0,
  "metadata": {
    "colab": {
      "provenance": []
    },
    "kernelspec": {
      "name": "python3",
      "display_name": "Python 3"
    },
    "language_info": {
      "name": "python"
    }
  },
  "cells": [
    {
      "cell_type": "code",
      "source": [],
      "metadata": {
        "id": "2we80fZG7yt7"
      },
      "execution_count": null,
      "outputs": []
    },
    {
      "cell_type": "markdown",
      "source": [],
      "metadata": {
        "id": "cFqUi_2mBvDp"
      }
    },
    {
      "cell_type": "code",
      "execution_count": 1,
      "metadata": {
        "colab": {
          "base_uri": "https://localhost:8080/"
        },
        "id": "41TXGKBH6PYU",
        "outputId": "32cfdbe5-41d0-4c48-cc3d-54b6c47abd13"
      },
      "outputs": [
        {
          "output_type": "stream",
          "name": "stdout",
          "text": [
            "   Tid Refund Marital_Status Taxable_Income Cheat\n",
            "0    1    Yes         Single           125K    No\n",
            "1    2     No        Married           100K    No\n",
            "2    3     No         Single            70K    No\n",
            "3    4    Yes        Married           120K    No\n",
            "4    5     No       Divorced            96K   Yes\n",
            "5    6     No        Married            60K    No\n",
            "6    7    Yes       Divorced           220K    No\n",
            "7    8     No         Single            85K   Yes\n",
            "8    9     No        Married            75K    No\n",
            "9   10     No         Single            90K   Yes\n"
          ]
        }
      ],
      "source": [
        "import pandas as pd\n",
        "\n",
        "dataset={\n",
        "    'Tid':[1,2,3,4,5,6,7,8,9,10],\n",
        "    'Refund':['Yes','No','No','Yes','No','No','Yes','No','No','No'],\n",
        "    'Marital_Status':['Single','Married','Single','Married','Divorced','Married','Divorced','Single','Married','Single'],\n",
        "    'Taxable_Income':['125K','100K','70K','120K','96K','60K','220K','85K','75K','90K'],\n",
        "    'Cheat':['No','No','No','No','Yes','No','No','Yes','No','Yes']\n",
        "}\n",
        "\n",
        "#Q1\n",
        "df=pd.DataFrame(dataset)\n",
        "print(df)"
      ]
    },
    {
      "cell_type": "code",
      "source": [
        "#Q2\n",
        "print(df.loc[0],df.loc[4],df.loc[7],df.loc[8])\n"
      ],
      "metadata": {
        "colab": {
          "base_uri": "https://localhost:8080/"
        },
        "id": "wk14tI7A6ySa",
        "outputId": "20e59415-2cb1-42fa-dc60-ea6879533e27"
      },
      "execution_count": 2,
      "outputs": [
        {
          "output_type": "stream",
          "name": "stdout",
          "text": [
            "Tid                    1\n",
            "Refund               Yes\n",
            "Marital_Status    Single\n",
            "Taxable_Income      125K\n",
            "Cheat                 No\n",
            "Name: 0, dtype: object Tid                      5\n",
            "Refund                  No\n",
            "Marital_Status    Divorced\n",
            "Taxable_Income         96K\n",
            "Cheat                  Yes\n",
            "Name: 4, dtype: object Tid                    8\n",
            "Refund                No\n",
            "Marital_Status    Single\n",
            "Taxable_Income       85K\n",
            "Cheat                Yes\n",
            "Name: 7, dtype: object Tid                     9\n",
            "Refund                 No\n",
            "Marital_Status    Married\n",
            "Taxable_Income        75K\n",
            "Cheat                  No\n",
            "Name: 8, dtype: object\n"
          ]
        }
      ]
    },
    {
      "cell_type": "code",
      "source": [
        "#Q3\n",
        "print(df.loc[3:7])\n",
        "print(df.iloc[4:9,2:5])\n",
        "print(df.iloc[:,1:4])"
      ],
      "metadata": {
        "colab": {
          "base_uri": "https://localhost:8080/"
        },
        "id": "cxIP-n0s670F",
        "outputId": "9e05103c-7542-4734-d702-c07cdc47175a"
      },
      "execution_count": 3,
      "outputs": [
        {
          "output_type": "stream",
          "name": "stdout",
          "text": [
            "   Tid Refund Marital_Status Taxable_Income Cheat\n",
            "3    4    Yes        Married           120K    No\n",
            "4    5     No       Divorced            96K   Yes\n",
            "5    6     No        Married            60K    No\n",
            "6    7    Yes       Divorced           220K    No\n",
            "7    8     No         Single            85K   Yes\n",
            "  Marital_Status Taxable_Income Cheat\n",
            "4       Divorced            96K   Yes\n",
            "5        Married            60K    No\n",
            "6       Divorced           220K    No\n",
            "7         Single            85K   Yes\n",
            "8        Married            75K    No\n",
            "  Refund Marital_Status Taxable_Income\n",
            "0    Yes         Single           125K\n",
            "1     No        Married           100K\n",
            "2     No         Single            70K\n",
            "3    Yes        Married           120K\n",
            "4     No       Divorced            96K\n",
            "5     No        Married            60K\n",
            "6    Yes       Divorced           220K\n",
            "7     No         Single            85K\n",
            "8     No        Married            75K\n",
            "9     No         Single            90K\n"
          ]
        }
      ]
    },
    {
      "cell_type": "code",
      "source": [
        "#Q4\n",
        "data_frame=pd.read_csv('Iris.csv')"
      ],
      "metadata": {
        "id": "LrwBqOSs6_L5"
      },
      "execution_count": null,
      "outputs": []
    },
    {
      "cell_type": "markdown",
      "source": [],
      "metadata": {
        "id": "XdlsUKO0BtPl"
      }
    },
    {
      "cell_type": "code",
      "source": [
        "#Q5, delete row 4 and delete column 3\n",
        "\n",
        "data_frame.drop(4,axis=0,inplace=True)\n",
        "data_frame.drop(data_frame.columns[3],axis=1,inplace=True)\n",
        "\n",
        "print(data_frame)"
      ],
      "metadata": {
        "id": "MWaKtUcq7GkY"
      },
      "execution_count": null,
      "outputs": []
    },
    {
      "cell_type": "code",
      "source": [
        "#q6\n",
        "import pandas as pd\n",
        "\n",
        "data_frame=pd.read_csv(\"employees.csv\")\n",
        "print(data_frame)\n",
        "\n",
        "#Printing the shape of the dataset that is the number of rows and columns\n",
        "print(\"Shape: \",data_frame.shape)\n",
        "\n",
        "#Summary of the dataset that is the datatypes and non null indicators\n",
        "\n",
        "print(\"Info: \",data_frame.info())\n",
        "\n",
        "#Generating Descriptive Statistics\n",
        "\n",
        "print(\"Description: \",data_frame.describe())\n",
        "\n",
        "print(data_frame.iloc[:6],data_frame.iloc[-3:])\n",
        "\n",
        "#Average Salary of the employees\n",
        "\n",
        "print(data_frame['Salary'].mean())\n",
        "\n",
        "#Total bonus paid to all the employees\n",
        "\n",
        "print(data_frame['Bonus'].sum())\n",
        "\n",
        "#Min of the employees Age\n",
        "\n",
        "print(data_frame['Age'].min())\n",
        "\n",
        "#Max of the rating\n",
        "\n",
        "print(data_frame['Rating'].max())\n",
        "\n",
        "#Sorting the dataframe according to the salary in descending order\n",
        "\n",
        "sorted_df=data_frame.sort_values(by=\"Salary\",ascending=False)\n",
        "print(sorted_df)\n",
        "\n",
        "#Adding a performance column by rating\n",
        "\n",
        "data_frame[\"Performance\"]=pd.cut(\n",
        "    data_frame[\"Rating\"],\n",
        "    bins=[0,4.0,4.5,5.0],\n",
        "    labels=[\"Average\",\"Good\",\"Excellent\"]\n",
        "\n",
        ")\n",
        "\n",
        "#Finding the missing values in the dataframe\n",
        "print(data_frame.isnull().sum())\n",
        "data_frame[\"Bonus\"]=data_frame[\"Bonus\"].fillna(0)\n",
        "\n",
        "#Rename the Employee_ID to ID\n",
        "\n",
        "#Store the values in a new column, then delete the Employee_ID column and insert the ID column\n",
        "# Method 1\n",
        "# data_frame[\"ID\"]=data_frame[\"Employee_ID\"]\n",
        "# data_frame.drop('Employee_ID',axis=1,inplace=True)\n",
        "# print(data_frame)\n",
        "\n",
        "#Method 2\n",
        "data_frame.rename(columns={\"Employee_ID\":\"ID\"},inplace=True)\n",
        "print(data_frame)\n",
        "\n",
        "#Finding all the employees who have more than 5 years of experience\n",
        "print(data_frame[data_frame[\"Years_of_Experience\"]>5])\n",
        "\n",
        "#Finding all the employees who are in the IT Department\n",
        "print(data_frame[data_frame[\"Department\"]=='IT'])\n",
        "\n",
        "#Add a new Column Tax, which deducts 10% of the salary\n",
        "\n",
        "data_frame[\"Tax\"]=data_frame[\"Salary\"]*(0.1)\n",
        "print(data_frame)\n",
        "\n",
        "#Lets save the modified data_frame in a new CSV file\n",
        "\n",
        "data_frame.to_csv(\"new_employees.csv\")"
      ],
      "metadata": {
        "id": "5LSJsUcJ7w70"
      },
      "execution_count": null,
      "outputs": []
    }
  ]
}