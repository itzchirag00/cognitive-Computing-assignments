{
  "nbformat": 4,
  "nbformat_minor": 0,
  "metadata": {
    "colab": {
      "provenance": []
    },
    "kernelspec": {
      "name": "python3",
      "display_name": "Python 3"
    },
    "language_info": {
      "name": "python"
    }
  },
  "cells": [
    {
      "cell_type": "markdown",
      "source": [],
      "metadata": {
        "id": "Vzy_p0MfivVQ"
      }
    },
    {
      "cell_type": "markdown",
      "source": [
        "CHIRAG SOOD    Assignment-9"
      ],
      "metadata": {
        "id": "xjxlVGEdiye7"
      }
    },
    {
      "cell_type": "code",
      "execution_count": 1,
      "metadata": {
        "colab": {
          "base_uri": "https://localhost:8080/"
        },
        "id": "Fts9lIpMhLcd",
        "outputId": "776ea8c6-8f0e-4190-ae79-5c4e71149a2b"
      },
      "outputs": [
        {
          "output_type": "stream",
          "name": "stderr",
          "text": [
            "[nltk_data] Downloading package punkt_tab to /root/nltk_data...\n",
            "[nltk_data]   Unzipping tokenizers/punkt_tab.zip.\n",
            "[nltk_data] Downloading package punkt to /root/nltk_data...\n",
            "[nltk_data]   Unzipping tokenizers/punkt.zip.\n",
            "[nltk_data] Downloading package stopwords to /root/nltk_data...\n",
            "[nltk_data]   Unzipping corpora/stopwords.zip.\n",
            "[nltk_data] Downloading package wordnet to /root/nltk_data...\n",
            "[nltk_data] Downloading package omw-1.4 to /root/nltk_data...\n"
          ]
        },
        {
          "output_type": "execute_result",
          "data": {
            "text/plain": [
              "True"
            ]
          },
          "metadata": {},
          "execution_count": 1
        }
      ],
      "source": [
        "import nltk\n",
        "import string\n",
        "from nltk.corpus import stopwords,wordnet\n",
        "from nltk.stem import PorterStemmer, LancasterStemmer, WordNetLemmatizer\n",
        "from nltk.tokenize import word_tokenize,sent_tokenize\n",
        "from nltk.probability import FreqDist\n",
        "import matplotlib.pyplot as plt\n",
        "import nltk\n",
        "import re\n",
        "nltk.download('punkt_tab')\n",
        "nltk.download('punkt')\n",
        "nltk.download('stopwords')\n",
        "nltk.download('wordnet')\n",
        "nltk.download('omw-1.4')"
      ]
    },
    {
      "cell_type": "code",
      "source": [
        "import string\n",
        "paragraph = \"\"\" My favourite topic is music. I listen a lot of music tracks  on Youtube . Arijit Singh is my favourite singer . The way of his singing really impresses me\"\"\""
      ],
      "metadata": {
        "id": "MtI23MbvhOJZ"
      },
      "execution_count": 5,
      "outputs": []
    },
    {
      "cell_type": "code",
      "source": [
        "lowerpunc = paragraph.lower().translate(str.maketrans('', '', string.punctuation))\n",
        "lowerpunc"
      ],
      "metadata": {
        "colab": {
          "base_uri": "https://localhost:8080/",
          "height": 36
        },
        "id": "MccWMgL4hSne",
        "outputId": "e424b669-d093-413f-ac9f-3d5da5a730ed"
      },
      "execution_count": 6,
      "outputs": [
        {
          "output_type": "execute_result",
          "data": {
            "text/plain": [
              "' my favourite topic is music i listen a lot of music tracks  on youtube  arijit singh is my favourite singer  the way of his singing really impresses me'"
            ],
            "application/vnd.google.colaboratory.intrinsic+json": {
              "type": "string"
            }
          },
          "metadata": {},
          "execution_count": 6
        }
      ]
    },
    {
      "cell_type": "code",
      "source": [
        "sentences = sent_tokenize(lowerpunc)\n",
        "words = word_tokenize(lowerpunc)\n",
        "\n",
        "print(\"Tokenized Sentences:\\n\", sentences)\n",
        "print(\"\\nTokenized Words:\\n\", words)\n",
        "\n",
        "stwords = set(stopwords.words('english'))\n",
        "filtered_words = [word for word in words if word not in stwords]\n",
        "\n",
        "print(\"\\nFiltered Words (Stopwords Removed):\\n\", filtered_words)"
      ],
      "metadata": {
        "colab": {
          "base_uri": "https://localhost:8080/"
        },
        "id": "IeXoo9nsiJnf",
        "outputId": "06bdacee-fbb6-4c2c-c032-f211b86399cf"
      },
      "execution_count": 7,
      "outputs": [
        {
          "output_type": "stream",
          "name": "stdout",
          "text": [
            "Tokenized Sentences:\n",
            " [' my favourite topic is music i listen a lot of music tracks  on youtube  arijit singh is my favourite singer  the way of his singing really impresses me']\n",
            "\n",
            "Tokenized Words:\n",
            " ['my', 'favourite', 'topic', 'is', 'music', 'i', 'listen', 'a', 'lot', 'of', 'music', 'tracks', 'on', 'youtube', 'arijit', 'singh', 'is', 'my', 'favourite', 'singer', 'the', 'way', 'of', 'his', 'singing', 'really', 'impresses', 'me']\n",
            "\n",
            "Filtered Words (Stopwords Removed):\n",
            " ['favourite', 'topic', 'music', 'listen', 'lot', 'music', 'tracks', 'youtube', 'arijit', 'singh', 'favourite', 'singer', 'way', 'singing', 'really', 'impresses']\n"
          ]
        }
      ]
    },
    {
      "cell_type": "code",
      "source": [
        "fdist = FreqDist(filtered_words)\n",
        "print(\"\\nTop 10 Most Common Words:\")\n",
        "for word, freq in fdist.most_common(10):\n",
        "    print(f\"{word}: {freq}\")"
      ],
      "metadata": {
        "colab": {
          "base_uri": "https://localhost:8080/"
        },
        "id": "Jo7haS0IiNoL",
        "outputId": "999a2f13-4509-4d28-c884-0f90951aa555"
      },
      "execution_count": 8,
      "outputs": [
        {
          "output_type": "stream",
          "name": "stdout",
          "text": [
            "\n",
            "Top 10 Most Common Words:\n",
            "favourite: 2\n",
            "music: 2\n",
            "topic: 1\n",
            "listen: 1\n",
            "lot: 1\n",
            "tracks: 1\n",
            "youtube: 1\n",
            "arijit: 1\n",
            "singh: 1\n",
            "singer: 1\n"
          ]
        }
      ]
    },
    {
      "cell_type": "code",
      "source": [
        "fdist.plot(10, title=\"Top 10 Word Frequencies (Excluding Stopwords)\")"
      ],
      "metadata": {
        "colab": {
          "base_uri": "https://localhost:8080/",
          "height": 538
        },
        "id": "QOAJQKLDiQmx",
        "outputId": "33dbba5b-c1c5-46d2-d0df-a15d9bc27da4"
      },
      "execution_count": 9,
      "outputs": [
        {
          "output_type": "execute_result",
          "data": {
            "text/plain": [
              "<Axes: title={'center': 'Top 10 Word Frequencies (Excluding Stopwords)'}, xlabel='Samples', ylabel='Counts'>"
            ]
          },
          "metadata": {},
          "execution_count": 9
        },
        {
          "output_type": "display_data",
          "data": {
            "text/plain": [
              "<Figure size 640x480 with 1 Axes>"
            ],
            "image/png": "[encoded data removed]"
          },
          "metadata": {}
        }
      ]
    },
    {
      "cell_type": "code",
      "source": [
        "\n",
        "text = paragraph.lower().translate(str.maketrans('', '', string.punctuation))\n",
        "words = word_tokenize(text)\n",
        "filtered_words = [word for word in words if word not in stopwords.words('english')]\n",
        "\n",
        "\n",
        "\n",
        "porter = PorterStemmer()\n",
        "lancaster = LancasterStemmer()\n",
        "lemmatizer = WordNetLemmatizer()"
      ],
      "metadata": {
        "id": "q3oLWyzWiTfa"
      },
      "execution_count": 10,
      "outputs": []
    },
    {
      "cell_type": "code",
      "source": [
        "\n",
        "words5 = re.findall(r'\\b[a-zA-Z]{6,}\\b', paragraph)\n",
        "print(\"Words with more than 5 letters:\\n\", words5)"
      ],
      "metadata": {
        "colab": {
          "base_uri": "https://localhost:8080/"
        },
        "id": "rMzAw9-HiWPN",
        "outputId": "82bcc126-6904-4280-e41d-a7223b120dca"
      },
      "execution_count": 11,
      "outputs": [
        {
          "output_type": "stream",
          "name": "stdout",
          "text": [
            "Words with more than 5 letters:\n",
            " ['favourite', 'listen', 'tracks', 'Youtube', 'Arijit', 'favourite', 'singer', 'singing', 'really', 'impresses']\n"
          ]
        }
      ]
    },
    {
      "cell_type": "code",
      "source": [
        "numbers = re.findall(r'\\b\\d+\\b', paragraph)\n",
        "print(\"\\nNumbers in text:\\n\", numbers if numbers else \"No numbers found.\")"
      ],
      "metadata": {
        "colab": {
          "base_uri": "https://localhost:8080/"
        },
        "id": "q3-ZggP7iYd0",
        "outputId": "c3d5c2f1-6cca-4af7-d1c2-215c61cac555"
      },
      "execution_count": 12,
      "outputs": [
        {
          "output_type": "stream",
          "name": "stdout",
          "text": [
            "\n",
            "Numbers in text:\n",
            " No numbers found.\n"
          ]
        }
      ]
    },
    {
      "cell_type": "code",
      "source": [
        "\n",
        "capitalized_words = re.findall(r'\\b[A-Z][a-z]*\\b', paragraph)\n",
        "print(\"\\nCapitalized words:\\n\", capitalized_words)\n",
        ""
      ],
      "metadata": {
        "colab": {
          "base_uri": "https://localhost:8080/"
        },
        "id": "2snLckgIiasR",
        "outputId": "20bd09c9-6d53-4435-b51f-647e4c938798"
      },
      "execution_count": 13,
      "outputs": [
        {
          "output_type": "stream",
          "name": "stdout",
          "text": [
            "\n",
            "Capitalized words:\n",
            " ['My', 'I', 'Youtube', 'Arijit', 'Singh', 'The']\n"
          ]
        }
      ]
    },
    {
      "cell_type": "code",
      "source": [
        "\n",
        "alphabetic_words = re.findall(r'\\b[a-zA-Z]+\\b', paragraph)\n",
        "print(\"\\nAlphabetic words:\\n\", alphabetic_words)"
      ],
      "metadata": {
        "colab": {
          "base_uri": "https://localhost:8080/"
        },
        "id": "tNqF6JIaidDr",
        "outputId": "f45b336b-b2d2-45f6-a072-81b4594c6cc7"
      },
      "execution_count": 14,
      "outputs": [
        {
          "output_type": "stream",
          "name": "stdout",
          "text": [
            "\n",
            "Alphabetic words:\n",
            " ['My', 'favourite', 'topic', 'is', 'music', 'I', 'listen', 'a', 'lot', 'of', 'music', 'tracks', 'on', 'Youtube', 'Arijit', 'Singh', 'is', 'my', 'favourite', 'singer', 'The', 'way', 'of', 'his', 'singing', 'really', 'impresses', 'me']\n"
          ]
        }
      ]
    },
    {
      "cell_type": "code",
      "source": [
        "\n",
        "vowel_words = re.findall(r'\\b[aeiouAEIOU][a-zA-Z]*\\b', paragraph)\n",
        "print(\"\\nWords starting with a vowel:\\n\", vowel_words)\n",
        ""
      ],
      "metadata": {
        "colab": {
          "base_uri": "https://localhost:8080/"
        },
        "id": "l2oQAofUifHy",
        "outputId": "0c62adca-c2c2-45ce-d813-d597c9660cf1"
      },
      "execution_count": 15,
      "outputs": [
        {
          "output_type": "stream",
          "name": "stdout",
          "text": [
            "\n",
            "Words starting with a vowel:\n",
            " ['is', 'I', 'a', 'of', 'on', 'Arijit', 'is', 'of', 'impresses']\n"
          ]
        }
      ]
    },
    {
      "cell_type": "code",
      "source": [
        "\n",
        "def customtokenizer(text):\n",
        "    pattern = r\"\"\"\n",
        "        \\b(?:\\d+\\.\\d+|\\d+)\\b                    # Decimal or integer numbers\n",
        "        | \\b\\w+(?:-\\w+)*\\b                      # Words, possibly hyphenated\n",
        "        | \\b\\w+'\\w+\\b                           # Contractions like isn't, don't\n",
        "    \"\"\"\n",
        "    tokens = re.findall(pattern, text, re.VERBOSE)\n",
        "    return tokens"
      ],
      "metadata": {
        "id": "X9ytj6xWihkA"
      },
      "execution_count": 16,
      "outputs": []
    },
    {
      "cell_type": "code",
      "source": [
        "def cleantext(text):\n",
        "    text = re.sub(r'\\b[\\w\\.-]+@[\\w\\.-]+\\.\\w+\\b', '', text)\n",
        "    text = re.sub(r'https?://\\S+|www\\.\\S+', '', text)\n",
        "    text = re.sub(r'(\\+?\\d{1,3}[\\s-])?\\d{3}[-\\s]?\\d{3}[-\\s]?\\d{4}', '', text)\n",
        "    return text\n"
      ],
      "metadata": {
        "id": "VyOqjJ98ij07"
      },
      "execution_count": 17,
      "outputs": []
    },
    {
      "cell_type": "code",
      "source": [
        "cleanpara = cleantext(paragraph)\n",
        "custtokens = customtokenizer(cleanpara)\n",
        "print(\"Cleaned Text:\\n\", cleanpara)\n",
        "print(\"\\nCustom Tokens:\\n\", custtokens)"
      ],
      "metadata": {
        "colab": {
          "base_uri": "https://localhost:8080/"
        },
        "id": "W4795ipgimDb",
        "outputId": "c1069793-4286-4a72-d799-fc6ed3c4db04"
      },
      "execution_count": 18,
      "outputs": [
        {
          "output_type": "stream",
          "name": "stdout",
          "text": [
            "Cleaned Text:\n",
            "  My favourite topic is music. I listen a lot of music tracks  on Youtube . Arijit Singh is my favourite singer . The way of his singing really impresses me\n",
            "\n",
            "Custom Tokens:\n",
            " ['My', 'favourite', 'topic', 'is', 'music', 'I', 'listen', 'a', 'lot', 'of', 'music', 'tracks', 'on', 'Youtube', 'Arijit', 'Singh', 'is', 'my', 'favourite', 'singer', 'The', 'way', 'of', 'his', 'singing', 'really', 'impresses', 'me']\n"
          ]
        }
      ]
    },
    {
      "cell_type": "code",
      "source": [],
      "metadata": {
        "id": "KplN28m1ioKp"
      },
      "execution_count": null,
      "outputs": []
    }
  ]
}